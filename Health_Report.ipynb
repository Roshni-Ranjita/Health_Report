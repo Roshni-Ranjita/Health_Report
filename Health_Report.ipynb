{
 "cells": [
  {
   "cell_type": "code",
   "execution_count": 1,
   "id": "edf09d1f",
   "metadata": {},
   "outputs": [],
   "source": [
    "import pandas as pd\n",
    "import numpy as np"
   ]
  },
  {
   "cell_type": "code",
   "execution_count": 2,
   "id": "b9c2a737",
   "metadata": {},
   "outputs": [],
   "source": [
    "#Read Dataframe\n",
    "train= pd.read_csv('train.csv')"
   ]
  },
  {
   "cell_type": "code",
   "execution_count": 7,
   "id": "e02db59a",
   "metadata": {},
   "outputs": [],
   "source": [
    "#Function For Health Report\n",
    "#null count\n",
    "def Health_Analysis(train, file_name, path=''):\n",
    "    no_nulls =train.isnull().sum()\n",
    "    row,column=train.shape\n",
    "    typ=train.dtypes\n",
    "    count=train.nunique()\n",
    "    trn_cols=train.columns\n",
    "    null_pct= no_nulls*100/row\n",
    "    u=[]\n",
    "    v=[]\n",
    "    df=train[:10]\n",
    "    for count,colm in zip(count, trn_cols):\n",
    "        if count<=10:\n",
    "            t=train.groupby(colm).count()\n",
    "        else:\n",
    "            t='Too Many Values'\n",
    "        v.append(t)\n",
    "        t=df[colm]\n",
    "        u.append(t)\n",
    "    dict = {'Column': trn_cols, 'Nulls': no_nulls, 'Nulls_Percentage': null_pct, 'row': row, 'Data_type': typ, 'Distinct_value': count,'Groupby_value': v, 'Example': u}\n",
    "    df = pd.DataFrame(dict)\n",
    "    df.to_csv(path+'Health_'+file_name+'.csv')\n",
    "    "
   ]
  },
  {
   "cell_type": "code",
   "execution_count": 8,
   "id": "5578e314",
   "metadata": {},
   "outputs": [],
   "source": [
    "#Function Call for Health Report\n",
    "Health_Analysis(train, 'Testing')"
   ]
  },
  {
   "cell_type": "code",
   "execution_count": null,
   "id": "754434a7",
   "metadata": {},
   "outputs": [],
   "source": []
  }
 ],
 "metadata": {
  "kernelspec": {
   "display_name": "Python 3 (ipykernel)",
   "language": "python",
   "name": "python3"
  },
  "language_info": {
   "codemirror_mode": {
    "name": "ipython",
    "version": 3
   },
   "file_extension": ".py",
   "mimetype": "text/x-python",
   "name": "python",
   "nbconvert_exporter": "python",
   "pygments_lexer": "ipython3",
   "version": "3.9.7"
  }
 },
 "nbformat": 4,
 "nbformat_minor": 5
}
